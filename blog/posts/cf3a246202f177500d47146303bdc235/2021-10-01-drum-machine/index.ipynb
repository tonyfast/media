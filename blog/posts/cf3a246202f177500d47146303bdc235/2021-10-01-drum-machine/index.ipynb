{
 "cells": [
  {
   "cell_type": "markdown",
   "id": "ff19d075-9776-4c30-9954-2766323e2427",
   "metadata": {},
   "source": [
    "# faker drum machine"
   ]
  },
  {
   "cell_type": "code",
   "execution_count": 83,
   "id": "6ea9f50e-9a87-42c9-95df-6b5693bdee8f",
   "metadata": {},
   "outputs": [],
   "source": [
    "    import faker\n",
    "\n",
    "    fake = faker.Faker()\n",
    "\n",
    "    import inspect\n",
    "\n",
    "    callables = []\n",
    "    methods = set()\n",
    "    for k in dir(fake):\n",
    "        if not k[0].isalpha():\n",
    "            continue\n",
    "        try:\n",
    "            self = getattr(fake, k)\n",
    "            if all([x.default is not inspect._empty for x in inspect.signature(self).parameters.values()  if x.kind in {inspect.Parameter.POSITIONAL_OR_KEYWORD}]):\n",
    "                callables.append(k)\n",
    "                \n",
    "        except (TypeError, ValueError):\n",
    "            pass"
   ]
  },
  {
   "cell_type": "code",
   "execution_count": 84,
   "id": "6553f735-59a8-4a72-ab59-872b334cde2a",
   "metadata": {},
   "outputs": [],
   "source": [
    "    from ipywidgets import ToggleButtons, Output, HBox"
   ]
  },
  {
   "cell_type": "code",
   "execution_count": 85,
   "id": "e00bc33b-ef2a-49e7-b2e4-cfb9e0d6f731",
   "metadata": {},
   "outputs": [],
   "source": [
    "    buttons, output = ToggleButtons(options=dict(zip(noargs, map(lambda x: getattr(fake, x), noargs)))), Output()"
   ]
  },
  {
   "cell_type": "code",
   "execution_count": 86,
   "id": "fa2f0451-47a7-421e-bf25-7d7f19bc07e8",
   "metadata": {},
   "outputs": [],
   "source": [
    "    def fake_it(x):\n",
    "        from rich import print\n",
    "        output.clear_output(True)\n",
    "        with output:\n",
    "            print(x[\"new\"]())"
   ]
  },
  {
   "cell_type": "code",
   "execution_count": 87,
   "id": "584aeacb-e65d-4f35-9123-e7090546fbd8",
   "metadata": {},
   "outputs": [],
   "source": [
    "    buttons.observe(fake_it, \"value\")"
   ]
  },
  {
   "cell_type": "code",
   "execution_count": 88,
   "id": "6d6f64c9-6546-4e22-a92d-466c25181c39",
   "metadata": {},
   "outputs": [
    {
     "data": {
      "application/vnd.jupyter.widget-view+json": {
       "model_id": "fa5a3f2e20794850adf9a64ade0d7397",
       "version_major": 2,
       "version_minor": 0
      },
      "text/plain": [
       "ToggleButtons(options={'aba': <bound method Provider.aba of <faker.providers.bank.en_GB.Provider object at 0x7…"
      ]
     },
     "metadata": {},
     "output_type": "display_data"
    }
   ],
   "source": [
    "    buttons"
   ]
  },
  {
   "cell_type": "code",
   "execution_count": 89,
   "id": "e4e1d786-072e-4e6c-9118-b92aa8772a5c",
   "metadata": {},
   "outputs": [
    {
     "data": {
      "application/vnd.jupyter.widget-view+json": {
       "model_id": "1f372ad8efbc409cb41e3e34392726c8",
       "version_major": 2,
       "version_minor": 0
      },
      "text/plain": [
       "Output()"
      ]
     },
     "metadata": {},
     "output_type": "display_data"
    }
   ],
   "source": [
    "    output"
   ]
  },
  {
   "cell_type": "code",
   "execution_count": null,
   "id": "722fb6a7-0801-4543-b53d-d21c07c18fc9",
   "metadata": {},
   "outputs": [],
   "source": []
  }
 ],
 "metadata": {
  "kernelspec": {
   "display_name": "Python 3 (ipykernel)",
   "language": "python",
   "name": "python3"
  },
  "language_info": {
   "codemirror_mode": {
    "name": "ipython",
    "version": 3
   },
   "file_extension": ".py",
   "mimetype": "text/x-python",
   "name": "python",
   "nbconvert_exporter": "python",
   "pygments_lexer": "ipython3",
   "version": "3.9.5"
  },
  "nikola": {
   "date": "2021-10-01"
  }
 },
 "nbformat": 4,
 "nbformat_minor": 5
}