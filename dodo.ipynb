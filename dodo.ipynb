{
 "cells": [
  {
   "cell_type": "markdown",
   "id": "76e095a3-f471-4c49-95ed-a9254cda923a",
   "metadata": {},
   "source": [
    "# `qshop` for configuration and builds\n",
    "\n",
    "`qshop` has three features:\n",
    "\n",
    "* centralized models for common configurations\n",
    "\n",
    "    a lot of schema for common tools are undefined or works in progress. having a common sink for these configurations will help provide schema to facilitate in configuration."
   ]
  },
  {
   "cell_type": "code",
   "execution_count": 1,
   "id": "406ee77c-d7d6-441b-9fc1-3e39d01aa32e",
   "metadata": {},
   "outputs": [
    {
     "name": "stdout",
     "output_type": "stream",
     "text": [
      "jb_config       generate a jupyter book configuration file\n",
      "nikola_build    build the nikola docs\n",
      "sphinx_config   generate a sphinx and nikola configuration file\n",
      "sphinx_html     build the sphinx html docs\n"
     ]
    }
   ],
   "source": [
    "    %reload_ext qshop\n",
    "    %doit list"
   ]
  },
  {
   "cell_type": "code",
   "execution_count": null,
   "id": "5c0d2714-7050-4601-b79a-6b124ea47e83",
   "metadata": {},
   "outputs": [],
   "source": []
  }
 ],
 "metadata": {
  "kernelspec": {
   "display_name": "Python 3 (ipykernel)",
   "language": "python",
   "name": "python3"
  },
  "language_info": {
   "codemirror_mode": {
    "name": "ipython",
    "version": 3
   },
   "file_extension": ".py",
   "mimetype": "text/x-python",
   "name": "python",
   "nbconvert_exporter": "python",
   "pygments_lexer": "ipython3",
   "version": "3.9.5"
  }
 },
 "nbformat": 4,
 "nbformat_minor": 5
}
