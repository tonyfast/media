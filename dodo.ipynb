{
 "cells": [
  {
   "cell_type": "code",
   "execution_count": 6,
   "id": "5aff7246-a453-4d78-bb41-61e1c8da17d8",
   "metadata": {},
   "outputs": [],
   "source": [
    "    from pathlib import Path"
   ]
  },
  {
   "cell_type": "markdown",
   "id": "76e095a3-f471-4c49-95ed-a9254cda923a",
   "metadata": {},
   "source": [
    "# `qshop` for configuration and builds\n",
    "\n",
    "in open source software, there are conventions, like git and github, that provide important project metadata. for blogs and documentation, this information is transcribed by hand for one off documentation builds. `qshop` simplifies bootstrapping blog and documentation for projects by aggregating project metadata and providing best practices for starting your docuemntation.\n",
    "\n",
    "`qshop` provides:\n",
    "\n",
    "* centralized models for common configurations\n",
    "    * these models export json schema, and create a common pool for schema configuration\n",
    "* command line and ipython magic usage\n",
    "    * the qshop tasks are automatically loaded for use with the existing `doit` magic\n",
    "* extensible tasks for doing more with `qshop`\n",
    "\n",
    "    a lot of schema for common tools are undefined or works in progress. having a common sink for these configurations will help provide schema to facilitate in configuration."
   ]
  },
  {
   "cell_type": "markdown",
   "id": "4d4487f8-39b1-4a7f-8b12-aba880f067b0",
   "metadata": {},
   "source": [
    "## how does it help\n",
    "\n",
    "`qshop` provides strong opinions for properly building documentation with tools like nikola and sphinx."
   ]
  },
  {
   "cell_type": "markdown",
   "id": "e7447117-c52d-4735-88f4-21f10023d63e",
   "metadata": {},
   "source": [
    "## how to use it\n",
    "\n",
    "`qshop` requires a github project to exist to build your documentation. it configures your docuemntation using the git and github api's.\n",
    "\n",
    "1. clone your repo\n",
    "2. run `qshop` to configure and build your docs"
   ]
  },
  {
   "cell_type": "markdown",
   "id": "110c974b-2fb9-4b95-86e2-8800edac4813",
   "metadata": {},
   "source": [
    "### command line\n",
    "\n",
    "`qshop` is a thin layer over the `doit` command line interface for task management. below we list the current `qshop` capabilities."
   ]
  },
  {
   "cell_type": "markdown",
   "id": "6e0ffe59-562e-4a28-bc22-7863cd2ecf4d",
   "metadata": {},
   "source": [
    "### python api"
   ]
  },
  {
   "cell_type": "code",
   "execution_count": 1,
   "id": "526f8037-181f-4b7c-8f26-cba407a9a5bd",
   "metadata": {},
   "outputs": [],
   "source": [
    "    from qshop.site import Site\n",
    "    %reload_ext rich"
   ]
  },
  {
   "cell_type": "markdown",
   "id": "65bbbb43-3e80-4c25-9673-2f9ee52086ba",
   "metadata": {},
   "source": [
    "site generates a sphinx and nikola configuration in one fell swoop. it combines information from git, github, and configuration files to generate documentation then represent some of the leading best practices."
   ]
  },
  {
   "cell_type": "code",
   "execution_count": 2,
   "id": "1e547c6e-bf03-419d-8e47-8aafd1b00689",
   "metadata": {},
   "outputs": [
    {
     "data": {
      "text/html": [
       "<pre style=\"white-space:pre;overflow-x:auto;line-height:normal;font-family:Menlo,'DejaVu Sans Mono',consolas,'Courier New',monospace\"><span style=\"color: #800000; text-decoration-color: #800000\">╭───────────────────────────────────────────────────────────────────────────────────────────╮</span>\n",
       "<span style=\"color: #800000; text-decoration-color: #800000\">│</span> <span style=\"color: #bfbf7f; text-decoration-color: #bfbf7f\"> /tmp/ipykernel_27494/</span><span style=\"color: #808000; text-decoration-color: #808000; font-weight: bold\">3958184722.py</span><span style=\"font-weight: bold\">:</span><span style=\"color: #0000ff; text-decoration-color: #0000ff; font-weight: bold\">1</span>                                                     <span style=\"color: #800000; text-decoration-color: #800000\">│</span>\n",
       "<span style=\"color: #800000; text-decoration-color: #800000\">│</span> below is an <span style=\"font-weight: bold; text-decoration: underline\">e</span>xample configuration generated for the `qshop` project.                      <span style=\"color: #800000; text-decoration-color: #800000\">│</span>\n",
       "<span style=\"color: #800000; text-decoration-color: #800000\">│</span>             <span style=\"color: #ff0000; text-decoration-color: #ff0000; font-weight: bold\">▲</span>                                                                             <span style=\"color: #800000; text-decoration-color: #800000\">│</span>\n",
       "<span style=\"color: #800000; text-decoration-color: #800000\">╰───────────────────────────────────────────────────────────────────────────────────────────╯</span>\n",
       "<span style=\"color: #ff0000; text-decoration-color: #ff0000; font-weight: bold\">SyntaxError: </span>invalid syntax\n",
       "</pre>\n"
      ],
      "text/plain": [
       "\u001b[31m╭───────────────────────────────────────────────────────────────────────────────────────────╮\u001b[0m\n",
       "\u001b[31m│\u001b[0m \u001b[2;33m /tmp/ipykernel_27494/\u001b[0m\u001b[1;33m3958184722.py\u001b[0m\u001b[1m:\u001b[0m\u001b[1;94m1\u001b[0m                                                     \u001b[31m│\u001b[0m\n",
       "\u001b[31m│\u001b[0m below is an \u001b[1;4me\u001b[0mxample configuration generated for the `qshop` project.                      \u001b[31m│\u001b[0m\n",
       "\u001b[31m│\u001b[0m             \u001b[1;91m▲\u001b[0m                                                                             \u001b[31m│\u001b[0m\n",
       "\u001b[31m╰───────────────────────────────────────────────────────────────────────────────────────────╯\u001b[0m\n",
       "\u001b[1;91mSyntaxError: \u001b[0minvalid syntax\n"
      ]
     },
     "metadata": {},
     "output_type": "display_data"
    }
   ],
   "source": [
    "below is an example configuration generated for the `qshop` project. "
   ]
  },
  {
   "cell_type": "code",
   "execution_count": 3,
   "id": "1e65eb37-7309-4cca-b7e6-260fe3c33761",
   "metadata": {},
   "outputs": [],
   "source": [
    "    site = Site()"
   ]
  },
  {
   "cell_type": "code",
   "execution_count": 5,
   "id": "1a2cbaee-65a2-407f-a5ae-bc8c771aefcb",
   "metadata": {},
   "outputs": [],
   "source": [
    "    import qshop"
   ]
  },
  {
   "cell_type": "code",
   "execution_count": 6,
   "id": "234adc88-df07-4df5-af58-3b081209afa3",
   "metadata": {},
   "outputs": [],
   "source": [
    "    def get_subclasses(cls):\n",
    "        yield cls\n",
    "        for x in cls.__subclasses__():\n",
    "            yield from get_subclasses(x)"
   ]
  },
  {
   "cell_type": "code",
   "execution_count": 4,
   "id": "924299b4-0211-435e-b041-24ab096d5e38",
   "metadata": {},
   "outputs": [
    {
     "data": {
      "text/html": [
       "<pre style=\"white-space:pre;overflow-x:auto;line-height:normal;font-family:Menlo,'DejaVu Sans Mono',consolas,'Courier New',monospace\">\n",
       "<span style=\"font-weight: bold\">{</span>\n",
       "    <span style=\"color: #008000; text-decoration-color: #008000\">'author'</span>: <span style=\"color: #008000; text-decoration-color: #008000\">'Quansight'</span>,\n",
       "    <span style=\"color: #008000; text-decoration-color: #008000\">'exclude_patterns'</span>: <span style=\"font-weight: bold\">[</span><span style=\"color: #008000; text-decoration-color: #008000\">'.nox'</span>, <span style=\"color: #008000; text-decoration-color: #008000\">'_build'</span><span style=\"font-weight: bold\">]</span>,\n",
       "    <span style=\"color: #008000; text-decoration-color: #008000\">'only_build_toc_files'</span>: <span style=\"color: #ff0000; text-decoration-color: #ff0000; font-style: italic\">False</span>,\n",
       "    <span style=\"color: #008000; text-decoration-color: #008000\">'execute'</span>: <span style=\"font-weight: bold\">{</span>\n",
       "        <span style=\"color: #008000; text-decoration-color: #008000\">'execute_notebooks'</span>: <span style=\"color: #008000; text-decoration-color: #008000\">'off'</span>,\n",
       "        <span style=\"color: #008000; text-decoration-color: #008000\">'cache'</span>: <span style=\"color: #008000; text-decoration-color: #008000\">''</span>,\n",
       "        <span style=\"color: #008000; text-decoration-color: #008000\">'exclude_patterns'</span>: <span style=\"font-weight: bold\">[]</span>,\n",
       "        <span style=\"color: #008000; text-decoration-color: #008000\">'timeout'</span>: <span style=\"color: #008080; text-decoration-color: #008080; font-weight: bold\">30</span>,\n",
       "        <span style=\"color: #008000; text-decoration-color: #008000\">'run_in_temp'</span>: <span style=\"color: #ff0000; text-decoration-color: #ff0000; font-style: italic\">False</span>,\n",
       "        <span style=\"color: #008000; text-decoration-color: #008000\">'allow_errors'</span>: <span style=\"color: #00ff00; text-decoration-color: #00ff00; font-style: italic\">True</span>,\n",
       "        <span style=\"color: #008000; text-decoration-color: #008000\">'stderr_output'</span>: <span style=\"color: #008000; text-decoration-color: #008000\">'show'</span>\n",
       "    <span style=\"font-weight: bold\">}</span>,\n",
       "    <span style=\"color: #008000; text-decoration-color: #008000\">'parse'</span>: <span style=\"font-weight: bold\">{</span>\n",
       "        <span style=\"color: #008000; text-decoration-color: #008000\">'myst_enable_extensions'</span>: <span style=\"font-weight: bold\">[</span>\n",
       "            <span style=\"color: #008000; text-decoration-color: #008000\">'linkify'</span>,\n",
       "            <span style=\"color: #008000; text-decoration-color: #008000\">'substitution'</span>,\n",
       "            <span style=\"color: #008000; text-decoration-color: #008000\">'dollarmath'</span>,\n",
       "            <span style=\"color: #008000; text-decoration-color: #008000\">'colon_fence'</span>\n",
       "        <span style=\"font-weight: bold\">]</span>,\n",
       "        <span style=\"color: #008000; text-decoration-color: #008000\">'myst_url_schemes'</span>: <span style=\"font-weight: bold\">[</span><span style=\"color: #008000; text-decoration-color: #008000\">'mailto'</span>, <span style=\"color: #008000; text-decoration-color: #008000\">'http'</span>, <span style=\"color: #008000; text-decoration-color: #008000\">'https'</span><span style=\"font-weight: bold\">]</span>\n",
       "    <span style=\"font-weight: bold\">}</span>,\n",
       "    <span style=\"color: #008000; text-decoration-color: #008000\">'html'</span>: <span style=\"font-weight: bold\">{</span>\n",
       "        <span style=\"color: #008000; text-decoration-color: #008000\">'favicon'</span>: <span style=\"color: #008000; text-decoration-color: #008000\">''</span>,\n",
       "        <span style=\"color: #008000; text-decoration-color: #008000\">'use_edit_page_button'</span>: <span style=\"color: #ff0000; text-decoration-color: #ff0000; font-style: italic\">False</span>,\n",
       "        <span style=\"color: #008000; text-decoration-color: #008000\">'use_repository_button'</span>: <span style=\"color: #ff0000; text-decoration-color: #ff0000; font-style: italic\">False</span>,\n",
       "        <span style=\"color: #008000; text-decoration-color: #008000\">'use_issues_button'</span>: <span style=\"color: #ff0000; text-decoration-color: #ff0000; font-style: italic\">False</span>,\n",
       "        <span style=\"color: #008000; text-decoration-color: #008000\">'use_multitoc_numbering'</span>: <span style=\"color: #00ff00; text-decoration-color: #00ff00; font-style: italic\">True</span>,\n",
       "        <span style=\"color: #008000; text-decoration-color: #008000\">'extra_navbar'</span>: <span style=\"color: #008000; text-decoration-color: #008000\">''</span>,\n",
       "        <span style=\"color: #008000; text-decoration-color: #008000\">'extra_footer'</span>: <span style=\"color: #008000; text-decoration-color: #008000\">''</span>,\n",
       "        <span style=\"color: #008000; text-decoration-color: #008000\">'google_analytics_id'</span>: <span style=\"color: #008000; text-decoration-color: #008000\">''</span>,\n",
       "        <span style=\"color: #008000; text-decoration-color: #008000\">'home_page_in_navbar'</span>: <span style=\"color: #00ff00; text-decoration-color: #00ff00; font-style: italic\">True</span>,\n",
       "        <span style=\"color: #008000; text-decoration-color: #008000\">'baseurl'</span>: <span style=\"color: #008000; text-decoration-color: #008000\">''</span>,\n",
       "        <span style=\"color: #008000; text-decoration-color: #008000\">'comments'</span>: <span style=\"font-weight: bold\">{</span><span style=\"color: #008000; text-decoration-color: #008000\">'hypothesis'</span>: <span style=\"color: #ff0000; text-decoration-color: #ff0000; font-style: italic\">False</span>, <span style=\"color: #008000; text-decoration-color: #008000\">'utterances'</span>: <span style=\"color: #ff0000; text-decoration-color: #ff0000; font-style: italic\">False</span><span style=\"font-weight: bold\">}</span>\n",
       "    <span style=\"font-weight: bold\">}</span>,\n",
       "    <span style=\"color: #008000; text-decoration-color: #008000\">'repository'</span>: <span style=\"font-weight: bold\">{}</span>,\n",
       "    <span style=\"color: #008000; text-decoration-color: #008000\">'launch_buttons'</span>: <span style=\"font-weight: bold\">{}</span>,\n",
       "    <span style=\"color: #008000; text-decoration-color: #008000\">'latex'</span>: <span style=\"font-weight: bold\">{</span><span style=\"color: #008000; text-decoration-color: #008000\">'latex_engine'</span>: <span style=\"color: #008000; text-decoration-color: #008000\">'pdflatex'</span>, <span style=\"color: #008000; text-decoration-color: #008000\">'use_jupyterbook_latex'</span>: <span style=\"color: #ff0000; text-decoration-color: #ff0000; font-style: italic\">False</span><span style=\"font-weight: bold\">}</span>,\n",
       "    <span style=\"color: #008000; text-decoration-color: #008000\">'sphinx'</span>: <span style=\"font-weight: bold\">{</span>\n",
       "        <span style=\"color: #008000; text-decoration-color: #008000\">'config'</span>: <span style=\"font-weight: bold\">{</span>\n",
       "            <span style=\"color: #008000; text-decoration-color: #008000\">'BLOG_AUTHOR'</span>: <span style=\"color: #008000; text-decoration-color: #008000\">'Quansight'</span>,\n",
       "            <span style=\"color: #008000; text-decoration-color: #008000\">'BLOG_TITLE'</span>: <span style=\"color: #008000; text-decoration-color: #008000\">'A place for creating and publishing media. '</span>,\n",
       "            <span style=\"color: #008000; text-decoration-color: #008000\">'SITE_URL'</span>: <span style=\"color: #008000; text-decoration-color: #008000\">'https://github.com/Quansight/media'</span>,\n",
       "            <span style=\"color: #008000; text-decoration-color: #008000\">'BLOG_DESCRIPTION'</span>: <span style=\"color: #008000; text-decoration-color: #008000\">'A place for creating and publishing media. '</span>,\n",
       "            <span style=\"color: #008000; text-decoration-color: #008000\">'DEFAULT_LANG'</span>: <span style=\"color: #008000; text-decoration-color: #008000\">'en'</span>,\n",
       "            <span style=\"color: #008000; text-decoration-color: #008000\">'POSTS'</span>: <span style=\"font-weight: bold\">[</span>\n",
       "                <span style=\"font-weight: bold\">(</span><span style=\"color: #008000; text-decoration-color: #008000\">'docs/mmxxi/*.rst'</span>, <span style=\"font-weight: bold\">{</span><span style=\"color: #008000; text-decoration-color: #008000\">'en'</span>: <span style=\"color: #008000; text-decoration-color: #008000\">'posts'</span><span style=\"font-weight: bold\">}</span>, <span style=\"color: #008000; text-decoration-color: #008000\">'post.tmpl'</span><span style=\"font-weight: bold\">)</span>,\n",
       "                <span style=\"font-weight: bold\">(</span><span style=\"color: #008000; text-decoration-color: #008000\">'docs/mmxxi/*.md'</span>, <span style=\"font-weight: bold\">{</span><span style=\"color: #008000; text-decoration-color: #008000\">'en'</span>: <span style=\"color: #008000; text-decoration-color: #008000\">'posts'</span><span style=\"font-weight: bold\">}</span>, <span style=\"color: #008000; text-decoration-color: #008000\">'post.tmpl'</span><span style=\"font-weight: bold\">)</span>,\n",
       "                <span style=\"font-weight: bold\">(</span><span style=\"color: #008000; text-decoration-color: #008000\">'docs/mmxxi/*.ipynb'</span>, <span style=\"font-weight: bold\">{</span><span style=\"color: #008000; text-decoration-color: #008000\">'en'</span>: <span style=\"color: #008000; text-decoration-color: #008000\">'posts'</span><span style=\"font-weight: bold\">}</span>, <span style=\"color: #008000; text-decoration-color: #008000\">'post.tmpl'</span><span style=\"font-weight: bold\">)</span>\n",
       "            <span style=\"font-weight: bold\">]</span>,\n",
       "            <span style=\"color: #008000; text-decoration-color: #008000\">'PAGES'</span>: <span style=\"font-weight: bold\">[]</span>,\n",
       "            <span style=\"color: #008000; text-decoration-color: #008000\">'INDEX_TEASERS'</span>: <span style=\"color: #00ff00; text-decoration-color: #00ff00; font-style: italic\">True</span>,\n",
       "            <span style=\"color: #008000; text-decoration-color: #008000\">'EXTRA_PLUGINS_DIRS'</span>: <span style=\"font-weight: bold\">[</span>\n",
       "                <span style=\"color: #008000; text-decoration-color: #008000\">'/home/tonyfast/Documents/media/qshop/qshop'</span>\n",
       "            <span style=\"font-weight: bold\">]</span>,\n",
       "            <span style=\"color: #008000; text-decoration-color: #008000\">'COMPILERS'</span>: <span style=\"font-weight: bold\">{</span>\n",
       "                <span style=\"color: #008000; text-decoration-color: #008000\">'myst'</span>: <span style=\"font-weight: bold\">[</span><span style=\"color: #008000; text-decoration-color: #008000\">'.md'</span>, <span style=\"color: #008000; text-decoration-color: #008000\">'.mdown'</span>, <span style=\"color: #008000; text-decoration-color: #008000\">'.markdown'</span><span style=\"font-weight: bold\">]</span>,\n",
       "                <span style=\"color: #008000; text-decoration-color: #008000\">'rest'</span>: <span style=\"font-weight: bold\">[</span><span style=\"color: #008000; text-decoration-color: #008000\">'.rst'</span><span style=\"font-weight: bold\">]</span>,\n",
       "                <span style=\"color: #008000; text-decoration-color: #008000\">'ipynb'</span>: <span style=\"font-weight: bold\">[</span><span style=\"color: #008000; text-decoration-color: #008000\">'.ipynb'</span><span style=\"font-weight: bold\">]</span>,\n",
       "                <span style=\"color: #008000; text-decoration-color: #008000\">'html'</span>: <span style=\"font-weight: bold\">[</span><span style=\"color: #008000; text-decoration-color: #008000\">'.html'</span>, <span style=\"color: #008000; text-decoration-color: #008000\">'.htm'</span><span style=\"font-weight: bold\">]</span>\n",
       "            <span style=\"font-weight: bold\">}</span>\n",
       "        <span style=\"font-weight: bold\">}</span>\n",
       "    <span style=\"font-weight: bold\">}</span>\n",
       "<span style=\"font-weight: bold\">}</span>\n",
       "</pre>\n"
      ],
      "text/plain": [
       "\n",
       "\u001b[1m{\u001b[0m\n",
       "    \u001b[32m'author'\u001b[0m: \u001b[32m'Quansight'\u001b[0m,\n",
       "    \u001b[32m'exclude_patterns'\u001b[0m: \u001b[1m[\u001b[0m\u001b[32m'.nox'\u001b[0m, \u001b[32m'_build'\u001b[0m\u001b[1m]\u001b[0m,\n",
       "    \u001b[32m'only_build_toc_files'\u001b[0m: \u001b[3;91mFalse\u001b[0m,\n",
       "    \u001b[32m'execute'\u001b[0m: \u001b[1m{\u001b[0m\n",
       "        \u001b[32m'execute_notebooks'\u001b[0m: \u001b[32m'off'\u001b[0m,\n",
       "        \u001b[32m'cache'\u001b[0m: \u001b[32m''\u001b[0m,\n",
       "        \u001b[32m'exclude_patterns'\u001b[0m: \u001b[1m[\u001b[0m\u001b[1m]\u001b[0m,\n",
       "        \u001b[32m'timeout'\u001b[0m: \u001b[1;36m30\u001b[0m,\n",
       "        \u001b[32m'run_in_temp'\u001b[0m: \u001b[3;91mFalse\u001b[0m,\n",
       "        \u001b[32m'allow_errors'\u001b[0m: \u001b[3;92mTrue\u001b[0m,\n",
       "        \u001b[32m'stderr_output'\u001b[0m: \u001b[32m'show'\u001b[0m\n",
       "    \u001b[1m}\u001b[0m,\n",
       "    \u001b[32m'parse'\u001b[0m: \u001b[1m{\u001b[0m\n",
       "        \u001b[32m'myst_enable_extensions'\u001b[0m: \u001b[1m[\u001b[0m\n",
       "            \u001b[32m'linkify'\u001b[0m,\n",
       "            \u001b[32m'substitution'\u001b[0m,\n",
       "            \u001b[32m'dollarmath'\u001b[0m,\n",
       "            \u001b[32m'colon_fence'\u001b[0m\n",
       "        \u001b[1m]\u001b[0m,\n",
       "        \u001b[32m'myst_url_schemes'\u001b[0m: \u001b[1m[\u001b[0m\u001b[32m'mailto'\u001b[0m, \u001b[32m'http'\u001b[0m, \u001b[32m'https'\u001b[0m\u001b[1m]\u001b[0m\n",
       "    \u001b[1m}\u001b[0m,\n",
       "    \u001b[32m'html'\u001b[0m: \u001b[1m{\u001b[0m\n",
       "        \u001b[32m'favicon'\u001b[0m: \u001b[32m''\u001b[0m,\n",
       "        \u001b[32m'use_edit_page_button'\u001b[0m: \u001b[3;91mFalse\u001b[0m,\n",
       "        \u001b[32m'use_repository_button'\u001b[0m: \u001b[3;91mFalse\u001b[0m,\n",
       "        \u001b[32m'use_issues_button'\u001b[0m: \u001b[3;91mFalse\u001b[0m,\n",
       "        \u001b[32m'use_multitoc_numbering'\u001b[0m: \u001b[3;92mTrue\u001b[0m,\n",
       "        \u001b[32m'extra_navbar'\u001b[0m: \u001b[32m''\u001b[0m,\n",
       "        \u001b[32m'extra_footer'\u001b[0m: \u001b[32m''\u001b[0m,\n",
       "        \u001b[32m'google_analytics_id'\u001b[0m: \u001b[32m''\u001b[0m,\n",
       "        \u001b[32m'home_page_in_navbar'\u001b[0m: \u001b[3;92mTrue\u001b[0m,\n",
       "        \u001b[32m'baseurl'\u001b[0m: \u001b[32m''\u001b[0m,\n",
       "        \u001b[32m'comments'\u001b[0m: \u001b[1m{\u001b[0m\u001b[32m'hypothesis'\u001b[0m: \u001b[3;91mFalse\u001b[0m, \u001b[32m'utterances'\u001b[0m: \u001b[3;91mFalse\u001b[0m\u001b[1m}\u001b[0m\n",
       "    \u001b[1m}\u001b[0m,\n",
       "    \u001b[32m'repository'\u001b[0m: \u001b[1m{\u001b[0m\u001b[1m}\u001b[0m,\n",
       "    \u001b[32m'launch_buttons'\u001b[0m: \u001b[1m{\u001b[0m\u001b[1m}\u001b[0m,\n",
       "    \u001b[32m'latex'\u001b[0m: \u001b[1m{\u001b[0m\u001b[32m'latex_engine'\u001b[0m: \u001b[32m'pdflatex'\u001b[0m, \u001b[32m'use_jupyterbook_latex'\u001b[0m: \u001b[3;91mFalse\u001b[0m\u001b[1m}\u001b[0m,\n",
       "    \u001b[32m'sphinx'\u001b[0m: \u001b[1m{\u001b[0m\n",
       "        \u001b[32m'config'\u001b[0m: \u001b[1m{\u001b[0m\n",
       "            \u001b[32m'BLOG_AUTHOR'\u001b[0m: \u001b[32m'Quansight'\u001b[0m,\n",
       "            \u001b[32m'BLOG_TITLE'\u001b[0m: \u001b[32m'A place for creating and publishing media. '\u001b[0m,\n",
       "            \u001b[32m'SITE_URL'\u001b[0m: \u001b[32m'https://github.com/Quansight/media'\u001b[0m,\n",
       "            \u001b[32m'BLOG_DESCRIPTION'\u001b[0m: \u001b[32m'A place for creating and publishing media. '\u001b[0m,\n",
       "            \u001b[32m'DEFAULT_LANG'\u001b[0m: \u001b[32m'en'\u001b[0m,\n",
       "            \u001b[32m'POSTS'\u001b[0m: \u001b[1m[\u001b[0m\n",
       "                \u001b[1m(\u001b[0m\u001b[32m'docs/mmxxi/*.rst'\u001b[0m, \u001b[1m{\u001b[0m\u001b[32m'en'\u001b[0m: \u001b[32m'posts'\u001b[0m\u001b[1m}\u001b[0m, \u001b[32m'post.tmpl'\u001b[0m\u001b[1m)\u001b[0m,\n",
       "                \u001b[1m(\u001b[0m\u001b[32m'docs/mmxxi/*.md'\u001b[0m, \u001b[1m{\u001b[0m\u001b[32m'en'\u001b[0m: \u001b[32m'posts'\u001b[0m\u001b[1m}\u001b[0m, \u001b[32m'post.tmpl'\u001b[0m\u001b[1m)\u001b[0m,\n",
       "                \u001b[1m(\u001b[0m\u001b[32m'docs/mmxxi/*.ipynb'\u001b[0m, \u001b[1m{\u001b[0m\u001b[32m'en'\u001b[0m: \u001b[32m'posts'\u001b[0m\u001b[1m}\u001b[0m, \u001b[32m'post.tmpl'\u001b[0m\u001b[1m)\u001b[0m\n",
       "            \u001b[1m]\u001b[0m,\n",
       "            \u001b[32m'PAGES'\u001b[0m: \u001b[1m[\u001b[0m\u001b[1m]\u001b[0m,\n",
       "            \u001b[32m'INDEX_TEASERS'\u001b[0m: \u001b[3;92mTrue\u001b[0m,\n",
       "            \u001b[32m'EXTRA_PLUGINS_DIRS'\u001b[0m: \u001b[1m[\u001b[0m\n",
       "                \u001b[32m'/home/tonyfast/Documents/media/qshop/qshop'\u001b[0m\n",
       "            \u001b[1m]\u001b[0m,\n",
       "            \u001b[32m'COMPILERS'\u001b[0m: \u001b[1m{\u001b[0m\n",
       "                \u001b[32m'myst'\u001b[0m: \u001b[1m[\u001b[0m\u001b[32m'.md'\u001b[0m, \u001b[32m'.mdown'\u001b[0m, \u001b[32m'.markdown'\u001b[0m\u001b[1m]\u001b[0m,\n",
       "                \u001b[32m'rest'\u001b[0m: \u001b[1m[\u001b[0m\u001b[32m'.rst'\u001b[0m\u001b[1m]\u001b[0m,\n",
       "                \u001b[32m'ipynb'\u001b[0m: \u001b[1m[\u001b[0m\u001b[32m'.ipynb'\u001b[0m\u001b[1m]\u001b[0m,\n",
       "                \u001b[32m'html'\u001b[0m: \u001b[1m[\u001b[0m\u001b[32m'.html'\u001b[0m, \u001b[32m'.htm'\u001b[0m\u001b[1m]\u001b[0m\n",
       "            \u001b[1m}\u001b[0m\n",
       "        \u001b[1m}\u001b[0m\n",
       "    \u001b[1m}\u001b[0m\n",
       "\u001b[1m}\u001b[0m\n"
      ]
     },
     "metadata": {},
     "output_type": "display_data"
    }
   ],
   "source": [
    "        site.sphinx.get_config().dict()"
   ]
  },
  {
   "cell_type": "code",
   "execution_count": 11,
   "id": "73ba85a7-bf77-47d7-b88a-3ab6c858c7b7",
   "metadata": {},
   "outputs": [],
   "source": [
    "    import json"
   ]
  },
  {
   "cell_type": "code",
   "execution_count": null,
   "id": "5c0d2714-7050-4601-b79a-6b124ea47e83",
   "metadata": {},
   "outputs": [],
   "source": []
  }
 ],
 "metadata": {
  "kernelspec": {
   "display_name": "Python 3 (ipykernel)",
   "language": "python",
   "name": "python3"
  },
  "language_info": {
   "codemirror_mode": {
    "name": "ipython",
    "version": 3
   },
   "file_extension": ".py",
   "mimetype": "text/x-python",
   "name": "python",
   "nbconvert_exporter": "python",
   "pygments_lexer": "ipython3",
   "version": "3.9.5"
  }
 },
 "nbformat": 4,
 "nbformat_minor": 5
}
