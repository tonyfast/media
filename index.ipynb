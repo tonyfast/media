{
 "cells": [
  {
   "cell_type": "markdown",
   "id": "76e095a3-f471-4c49-95ed-a9254cda923a",
   "metadata": {},
   "source": [
    "# `qshop` for configuration and builds\n",
    "\n",
    "`qshop` has three features:\n",
    "\n",
    "* centralized models for common configurations\n",
    "\n",
    "    a lot of schema for common tools are undefined or works in progress. having a common sink for these configurations will help provide schema to facilitate in configuration."
   ]
  },
  {
   "cell_type": "code",
   "execution_count": 1,
   "id": "4edb51d5-1165-46b0-ab18-df6cf275eb1d",
   "metadata": {},
   "outputs": [],
   "source": [
    "    import dotenv\n",
    "    import pathlib\n",
    "    dotenv.load_dotenv()\n",
    "    import qshop.models.site\n",
    "    import qshop.urls\n",
    "    self = qshop.models.site.Site(project=\"Quansight/media\")\n",
    "    from doit.task import clean_targets\n",
    "    %reload_ext doit\n",
    "    import conf\n",
    "    import glob\n",
    "\n",
    "    DOIT_CONFIG=dict(verbosity=2)\n",
    "\n",
    "    import yaml\n",
    "\n",
    "    import io\n",
    "\n",
    "    import re"
   ]
  },
  {
   "cell_type": "code",
   "execution_count": 3,
   "id": "b1ba678e-71d4-4e3a-b6be-1837503fba50",
   "metadata": {},
   "outputs": [
    {
     "data": {
      "text/plain": [
       "'# like hearing an old song again\\n\\n[![hackmd-github-sync-badge](https://hackmd.io/GOVqFBANTQC8Fbuhv_LlBA/badge)](https://hackmd.io/GOVqFBANTQC8Fbuhv_LlBA)\\n\\n\\nits 2021, ten years since the 2020 blip, and 7 years since i first wrote about [**mermaid** diagrams] in 2014.[^0] i recently [columbused]() **mermaid** while learning just how many great features hackmd provides. i\\'ve been having fun exploring all of [**mermaid**\\'s modern features] in collaborative work with my friends on hackmd. we\\'re all having fun with **mermaid**. it feels like hearing an old song for the time; i keep playing it on repeat.\\n\\n```mermaid\\ngantt\\n    mermaid :0d, 1d\\n    is :1d, 2d\\n    cool :1d\\n```\\n\\nyou can explore the [hackmd docs] for [all the cool features] they provide; *seriously y\\'all gotta take the time to brush up*. we\\'re just going to focus on **mermaid**. \\n\\n## diagrams with **mermaid**\\n\\n[**mermaid**] is a diagramming and charting tool in javascript. it produces `<svg>` figures in javascript using a [`d3`]-based library for directed graphs called [`dagre`]. same as 7 years ago, except now everything is likely typescript and :face_with_monocle: \\n\\nbelow is a list of the different charts and syntaxes used with **mermaid.**\\n\\n\\n\\n### Flowchart\\n\\n[Flowcharts](https://en.wikipedia.org/wiki/Flowchart) are good ways to represent workflows or processes.\\n\\n```mermaid\\nflowchart TB\\n    c1-->a2\\n    subgraph one\\n    a1-->a2\\n    end\\n    subgraph two\\n    b1-->b2\\n    end\\n    subgraph three\\n    c1-->c2\\n    end\\n```\\n\\n### Sequence diagram\\n\\n[Sequence diagrams](https://en.wikipedia.org/wiki/Sequence_diagram) are good for sharing interactions over time.\\n\\n\\n```mermaid\\nsequenceDiagram\\n    Alice->>John: Hello John, how are you?\\n    John-->>Alice: Great!\\n    Alice-)John: See you later!\\n```\\n\\n### Class Diagram\\n\\n[Class diagrams](https://en.wikipedia.org/wiki/Class_diagram) can be used to visual object oriented programming interfaces.\\n\\n```mermaid\\n classDiagram\\n      Animal <|-- Duck\\n      Animal <|-- Fish\\n      Animal <|-- Zebra\\n      Animal : +int age\\n      Animal : +String gender\\n      Animal: +isMammal()\\n      Animal: +mate()\\n      class Duck{\\n          +String beakColor\\n          +swim()\\n          +quack()\\n      }\\n      class Fish{\\n          -int sizeInFeet\\n          -canEat()\\n      }\\n      class Zebra{\\n          +bool is_wild\\n          +run()\\n      }\\n```\\n\\n### State Diagram\\n\\n[State diagrams](https://en.wikipedia.org/wiki/State_diagram) can be defined to show how systems interact.\\n\\n```mermaid\\nstateDiagram-v2\\n    [*] --> Still\\n    Still --> [*]\\n\\n    Still --> Moving\\n    Moving --> Still\\n    Moving --> Crash\\n    Crash --> [*]\\n```\\n### Entity Relationship Diagram\\n\\n[Entity relationship diagrams](https://en.wikipedia.org/wiki/Entity%E2%80%93relationship_model) are composed to illustrate the connecivity of knowledge.\\n\\n```mermaid\\nerDiagram\\n    CUSTOMER ||--o{ ORDER : places\\n    ORDER ||--|{ LINE-ITEM : contains\\n    CUSTOMER }|..|{ DELIVERY-ADDRESS : uses\\n```\\n### User Journey\\n\\n[User journey\\'s](https://en.wikipedia.org/wiki/User_journey) can describe a person\\'s interaction with technology.\\n\\n```mermaid\\njourney\\n    title My working day\\n    section Go to work\\n      Make tea: 5: Me\\n      Go upstairs: 3: Me\\n      Do work: 1: Me, Cat\\n    section Go home\\n      Go downstairs: 5: Me\\n      Sit down: 5: Me\\n```\\n\\n### Gantt\\n\\n[Gantt charts](https://en.wikipedia.org/wiki/User_journey), named for Henry Gantt, show the relationship between activities and schedule\\n\\n```mermaid\\ngantt\\n    mermaid :0d, 1d\\n    is :1d, 2d\\n    cool :1d\\n```\\n\\n\\n### Pie Chart\\n\\nLastly, [pie charts](https://en.wikipedia.org/wiki/Pie_chart) are mermaid feature *for making important business decision on big data and machine learning*.\\n\\n\\n```mermaid\\npie title mermaid\\n         \"🧑\\u200d🦰\": 90\\n         \"🐟\" : 10\\n         \\n```\\n\\n### Requirement Diagram\\n\\n## can mermaid jupyter?\\n\\nbefore our blip, the homie [@bollwyvl] had a `%%mermaid` magic that worked in the classic notebok. those were simpler times, and now we have [`jupyterlab`], `mermaid` magic has been archived.[^1]\\n\\nthe new school does provide a cool [`jupyter-markup`] extension adds code fence directives like mermaid. some examples are shown in the screenshots below.\\n\\nTODO: screenshots\\n\\n## why the lull?\\n\\n\\ni was curious to think about why [mermaid] fell out of my toolbox, and i hadn\\'t thought anything of it. :thinking_face: there are few things that attributed to this.\\n\\n1. i use a conda and scientific python toolchain meaning that [`graphviz`] is used more often. `graphviz`\\'s dot syntax is tried and tested, its a timeless song.\\n3. i hate `node` and i don\\'t want a `node` runtime in my waking or sleeping life.\\n4. `jupyter` shifted focus to new technologies with bolder intent that created friction between old and new tools. \\n5. the saddest part is that javascript became more difficult to hack in a notebook in `jupyter`.\\n\\nthere is change in the wind and i\\'m fairly certain i\\'ll be using mermaid more frequently now that it works in newest [`jupyterlab`] ecosystem with the [`jupyter-markup`] extension.\\n\\n## conclusion\\n\\nmermaid is cool. markdown is cool. jupyter is cool. hackmd is cool. it is cool that they are all cool with each other. stay cool. :sunglasses: \\n\\n\\n\\n[first]: https://gist.github.com/tonyfast/b77d1cb766f65f026c67\\n    \\n    \\n    '"
      ]
     },
     "execution_count": 3,
     "metadata": {},
     "output_type": "execute_result"
    }
   ],
   "source": [
    "    self.discover().posts[0].load().document."
   ]
  },
  {
   "cell_type": "code",
   "execution_count": 3,
   "id": "397e20dd-0b24-4c34-b692-a78f74aeeaae",
   "metadata": {},
   "outputs": [
    {
     "ename": "NameError",
     "evalue": "name 's' is not defined",
     "output_type": "error",
     "traceback": [
      "\u001b[0;31m---------------------------------------------------------------------------\u001b[0m",
      "\u001b[0;31mNameError\u001b[0m                                 Traceback (most recent call last)",
      "\u001b[0;32m/tmp/ipykernel_204106/3796998681.py\u001b[0m in \u001b[0;36m<module>\u001b[0;34m\u001b[0m\n\u001b[0;32m----> 1\u001b[0;31m \u001b[0ms\u001b[0m\u001b[0;34m.\u001b[0m\u001b[0msplit\u001b[0m\u001b[0;34m(\u001b[0m\u001b[0;36m2\u001b[0m\u001b[0;34m)\u001b[0m\u001b[0;34m\u001b[0m\u001b[0;34m\u001b[0m\u001b[0m\n\u001b[0m",
      "\u001b[0;31mNameError\u001b[0m: name 's' is not defined"
     ]
    }
   ],
   "source": [
    "    s.split(2)"
   ]
  },
  {
   "cell_type": "code",
   "execution_count": 11,
   "id": "9a1f7e7e-086d-44fd-9c80-a8f26c073702",
   "metadata": {},
   "outputs": [
    {
     "data": {
      "text/plain": [
       "Config(title='media', author='Quansight', copyright=None, logo=None, exclude_patterns=['.nox', '_build'], only_build_toc_files=False, stderr_output=None, execute=Execute(execute_notebooks='off', cache='', exclude_patterns=[], timeout=30, run_in_temp=True, allow_errors=True), parse=Parse(myst_enable_extensions=['linkify', 'substitution', 'dollarmath', 'colon_fence'], myst_url_schemes=['mailto', 'http', 'https']), html=Html(favicon='', use_edit_page_button=False, use_repository_button=False, use_issues_button=False, use_multitoc_numbering=True, extra_navbar='', extra_footer='', google_analytics_id='', home_page_in_navbar=True, baseurl='', comments=Comments(hypothesis=False, utterances=False)), repository=Repository(), launch_buttons=Buttons(), latex=Latex(latex_engine='pdflatex', use_jupyterbook_latex=False), sphinx=Sphinx(extra_extensions=None, local_extensions=None, config=Nikola(BLOG_AUTHOR='Quansight', BLOG_TITLE='media', SITE_URL='https://github.com/Quansight/media', BLOG_EMAIL=None, BLOG_DESCRIPTION='A place for creating and publishing media. ', DEFAULT_LANG='en', POSTS=[('docs/mmxxi/*.rst', {'en': 'posts'}, 'post.tmpl'), ('docs/mmxxi/*.md', {'en': 'posts'}, 'post.tmpl'), ('docs/mmxxi/*.ipynb', {'en': 'posts'}, 'post.tmpl')], PAGES=[])))"
      ]
     },
     "execution_count": 11,
     "metadata": {},
     "output_type": "execute_result"
    }
   ],
   "source": [
    "    site.from_github().to_jb()\n",
    "    "
   ]
  },
  {
   "cell_type": "code",
   "execution_count": 7,
   "id": "0a280949-b34e-4c24-9adf-d4796a88d985",
   "metadata": {},
   "outputs": [
    {
     "name": "stdout",
     "output_type": "stream",
     "text": [
      "2021-09-01-.ipynb  config.yml  \u001b[0m\u001b[01;34mdocs\u001b[0m/    index.ipynb  \u001b[01;34m__pycache__\u001b[0m/  README.md\n",
      "\u001b[01;34mcache\u001b[0m/             conf.py     dodo.py  \u001b[01;34moutput\u001b[0m/      \u001b[01;34mqshop\u001b[0m/        \u001b[01;34mshit\u001b[0m/\n"
     ]
    }
   ],
   "source": [
    "    ls"
   ]
  },
  {
   "cell_type": "code",
   "execution_count": 8,
   "id": "f532caf2-f420-47a4-af1e-26e37ac86d02",
   "metadata": {},
   "outputs": [],
   "source": [
    "    import doit"
   ]
  },
  {
   "cell_type": "code",
   "execution_count": null,
   "id": "d37902b8-f67e-4976-af78-c985e0c014fa",
   "metadata": {},
   "outputs": [],
   "source": [
    "    doit.task."
   ]
  },
  {
   "cell_type": "code",
   "execution_count": 4,
   "id": "6a467639-2410-44bf-ab81-a56b1366e1ad",
   "metadata": {},
   "outputs": [],
   "source": [
    "    def task_jb_config():\n",
    "        \"\"\"generate a jupyter book configuration file\"\"\"\n",
    "        def write():\n",
    "            site = qshop.models.site.Site(project=\"Quansight/media\")\n",
    "            pathlib.Path(\"config.yml\").write_text(\n",
    "                site.from_github().to_jb().yaml()\n",
    "            )\n",
    "            \n",
    "        return dict(\n",
    "            actions=[write],\n",
    "            targets=[\"config.yml\"],\n",
    "            clean=[clean_targets]\n",
    "        )\n",
    "    \n",
    "    def task_sphinx_config():\n",
    "        \"\"\"generate a sphinx and nikola configuration file\"\"\"\n",
    "        return dict(\n",
    "            file_dep=[\"config.yml\"],\n",
    "            actions=[\"jb config sphinx . --config config.yml > conf.py\"],\n",
    "            targets=[\"conf.py\"],\n",
    "            clean=[clean_targets]\n",
    "        )\n",
    "    \n",
    "    "
   ]
  },
  {
   "cell_type": "code",
   "execution_count": 6,
   "id": "79dcdb66-836b-439c-b752-b48191ef0c6b",
   "metadata": {},
   "outputs": [
    {
     "name": "stdout",
     "output_type": "stream",
     "text": [
      ".  jb_config\n",
      ".  sphinx_config\n"
     ]
    }
   ],
   "source": [
    "    %doit "
   ]
  },
  {
   "cell_type": "code",
   "execution_count": 7,
   "id": "d0e9199f-3ff6-46ed-8ca6-44ea4b388ea5",
   "metadata": {},
   "outputs": [
    {
     "name": "stdout",
     "output_type": "stream",
     "text": [
      "\u001b[1;33m[2021-09-01 15:53:24] WARNING: Nikola: Your BASE_URL doesn't end in / -- adding it, but please fix it in your config file!\u001b[0m\n",
      "Scanning posts..\u001b[1;31m[2021-09-01 15:53:25] ERROR: scan_posts: Error reading post docs/mmxxi/september/mermaid_is_cool.md\u001b[0m\n",
      "\u001b[1;31m[2021-09-01 15:53:25] ERROR: Nikola: Error reading timeline\u001b[0m\n",
      "\u001b[1;31m[2021-09-01 15:53:25] ERROR: Nikola: Error loading tasks. An unhandled exception occurred.\u001b[0m\n",
      "Traceback (most recent call last):\n",
      "  File \"/home/tonyfast/miniforge3/lib/python3.9/site-packages/doit/doit_cmd.py\", line 203, in run\n",
      "    return command.parse_execute(args)\n",
      "  File \"/home/tonyfast/miniforge3/lib/python3.9/site-packages/doit/cmd_base.py\", line 150, in parse_execute\n",
      "    return self.execute(params, args)\n",
      "  File \"/home/tonyfast/miniforge3/lib/python3.9/site-packages/doit/cmd_base.py\", line 551, in execute\n",
      "    self.task_list, dodo_config = self.loader.load_tasks(\n",
      "  File \"/home/tonyfast/miniforge3/lib/python3.9/site-packages/nikola/__main__.py\", line 276, in load_tasks\n",
      "    tasks = generate_tasks(\n",
      "  File \"/home/tonyfast/miniforge3/lib/python3.9/site-packages/doit/loader.py\", line 313, in generate_tasks\n",
      "    for task_dict, x_doc in flat_generator(gen_result, gen_doc):\n",
      "  File \"/home/tonyfast/miniforge3/lib/python3.9/site-packages/doit/loader.py\", line 26, in flat_generator\n",
      "    for item in gen:\n",
      "  File \"/home/tonyfast/miniforge3/lib/python3.9/site-packages/nikola/nikola.py\", line 2058, in gen_tasks\n",
      "    for task in flatten(pluginInfo.plugin_object.gen_tasks()):\n",
      "  File \"/home/tonyfast/miniforge3/lib/python3.9/site-packages/nikola/nikola.py\", line 2052, in flatten\n",
      "    for t in task:\n",
      "  File \"/home/tonyfast/miniforge3/lib/python3.9/site-packages/nikola/plugins/task/sources.py\", line 49, in gen_tasks\n",
      "    self.site.scan_posts()\n",
      "  File \"/home/tonyfast/miniforge3/lib/python3.9/site-packages/nikola/nikola.py\", line 2177, in scan_posts\n",
      "    timeline = p.plugin_object.scan()\n",
      "  File \"/home/tonyfast/miniforge3/lib/python3.9/site-packages/nikola/plugins/misc/scan_posts.py\", line 90, in scan\n",
      "    post = Post(\n",
      "  File \"/home/tonyfast/miniforge3/lib/python3.9/site-packages/nikola/post.py\", line 131, in __init__\n",
      "    default_metadata, default_used_extractor = get_meta(self, lang=None)\n",
      "  File \"/home/tonyfast/miniforge3/lib/python3.9/site-packages/nikola/post.py\", line 1214, in get_meta\n",
      "    new_meta, used_extractor = get_metadata_from_file(post.source_path, post, config, lang, metadata_extractors_by)\n",
      "  File \"/home/tonyfast/miniforge3/lib/python3.9/site-packages/nikola/post.py\", line 1146, in get_metadata_from_file\n",
      "    new_meta = extractor.extract_text(source_text)\n",
      "  File \"/home/tonyfast/miniforge3/lib/python3.9/site-packages/nikola/plugin_categories.py\", line 440, in extract_text\n",
      "    meta = self._extract_metadata_from_text(split[0])\n",
      "  File \"/home/tonyfast/miniforge3/lib/python3.9/site-packages/nikola/metadata_extractors.py\", line 202, in _extract_metadata_from_text\n",
      "    for k in meta:\n",
      "TypeError: 'NoneType' object is not iterable\n"
     ]
    }
   ],
   "source": [
    "    !nikola build"
   ]
  },
  {
   "cell_type": "code",
   "execution_count": 11,
   "id": "ffbf5d32-6a86-4541-aac4-492eddf402be",
   "metadata": {},
   "outputs": [],
   "source": [
    "    import conf"
   ]
  },
  {
   "cell_type": "code",
   "execution_count": 20,
   "id": "6930d9a6-a7c3-4b4e-876b-381ba337a95d",
   "metadata": {},
   "outputs": [],
   "source": [
    "    from nikola.nikola import Nikola"
   ]
  },
  {
   "cell_type": "code",
   "execution_count": 23,
   "id": "0976df1c-d303-4ad1-8b81-c6ddc9b5746f",
   "metadata": {},
   "outputs": [],
   "source": [
    "    import yaml"
   ]
  },
  {
   "cell_type": "code",
   "execution_count": 24,
   "id": "cde50945-1099-4085-97e5-f56449a79ae0",
   "metadata": {},
   "outputs": [],
   "source": [
    "    import conf"
   ]
  },
  {
   "cell_type": "code",
   "execution_count": 29,
   "id": "958091b7-a3b5-4c43-90fc-4eb01ab39cd4",
   "metadata": {},
   "outputs": [
    {
     "name": "stderr",
     "output_type": "stream",
     "text": [
      "[2021-09-01 15:46:50] WARNING: Nikola: Your BASE_URL doesn't end in / -- adding it, but please fix it in your config file!\n"
     ]
    }
   ],
   "source": [
    "    nik = Nikola(**vars(conf))\n",
    "    nik.init_plugins()"
   ]
  },
  {
   "cell_type": "code",
   "execution_count": 34,
   "id": "98c7a1ec-4c16-4795-8440-6d2493a66632",
   "metadata": {},
   "outputs": [],
   "source": [
    "    import operator"
   ]
  },
  {
   "cell_type": "code",
   "execution_count": 36,
   "id": "bb4c50de-6c62-4f4d-9b17-c3afe31542d4",
   "metadata": {},
   "outputs": [
    {
     "name": "stdout",
     "output_type": "stream",
     "text": [
      "<yapsy.PluginInfo.PluginInfo object at 0x7fcd0aaaa5e0>\n"
     ]
    }
   ],
   "source": [
    "    for p in sorted(nik.plugin_manager.getPluginsOfCategory('PostScanner'), key=operator.attrgetter('name')):\n",
    "        print(p)"
   ]
  },
  {
   "cell_type": "code",
   "execution_count": 30,
   "id": "0f1a27e3-3c1d-4432-8baa-49999dd4db5f",
   "metadata": {},
   "outputs": [
    {
     "name": "stderr",
     "output_type": "stream",
     "text": [
      "Scanning posts..[2021-09-01 15:46:51] ERROR: scan_posts: Error reading post docs/mmxxi/september/mermaid_is_cool.md\n",
      "[2021-09-01 15:46:51] ERROR: Nikola: Error reading timeline\n"
     ]
    },
    {
     "ename": "TypeError",
     "evalue": "'NoneType' object is not iterable",
     "output_type": "error",
     "traceback": [
      "\u001b[0;31m---------------------------------------------------------------------------\u001b[0m",
      "\u001b[0;31mTypeError\u001b[0m                                 Traceback (most recent call last)",
      "\u001b[0;32m/tmp/ipykernel_167714/4094628734.py\u001b[0m in \u001b[0;36m<module>\u001b[0;34m\u001b[0m\n\u001b[0;32m----> 1\u001b[0;31m \u001b[0mnik\u001b[0m\u001b[0;34m.\u001b[0m\u001b[0mscan_posts\u001b[0m\u001b[0;34m(\u001b[0m\u001b[0;34m)\u001b[0m\u001b[0;34m\u001b[0m\u001b[0;34m\u001b[0m\u001b[0m\n\u001b[0m",
      "\u001b[0;32m~/miniforge3/lib/python3.9/site-packages/nikola/nikola.py\u001b[0m in \u001b[0;36mscan_posts\u001b[0;34m(self, really, ignore_quit, quiet)\u001b[0m\n\u001b[1;32m   2175\u001b[0m         \u001b[0;32mfor\u001b[0m \u001b[0mp\u001b[0m \u001b[0;32min\u001b[0m \u001b[0msorted\u001b[0m\u001b[0;34m(\u001b[0m\u001b[0mself\u001b[0m\u001b[0;34m.\u001b[0m\u001b[0mplugin_manager\u001b[0m\u001b[0;34m.\u001b[0m\u001b[0mgetPluginsOfCategory\u001b[0m\u001b[0;34m(\u001b[0m\u001b[0;34m'PostScanner'\u001b[0m\u001b[0;34m)\u001b[0m\u001b[0;34m,\u001b[0m \u001b[0mkey\u001b[0m\u001b[0;34m=\u001b[0m\u001b[0moperator\u001b[0m\u001b[0;34m.\u001b[0m\u001b[0mattrgetter\u001b[0m\u001b[0;34m(\u001b[0m\u001b[0;34m'name'\u001b[0m\u001b[0;34m)\u001b[0m\u001b[0;34m)\u001b[0m\u001b[0;34m:\u001b[0m\u001b[0;34m\u001b[0m\u001b[0;34m\u001b[0m\u001b[0m\n\u001b[1;32m   2176\u001b[0m             \u001b[0;32mtry\u001b[0m\u001b[0;34m:\u001b[0m\u001b[0;34m\u001b[0m\u001b[0;34m\u001b[0m\u001b[0m\n\u001b[0;32m-> 2177\u001b[0;31m                 \u001b[0mtimeline\u001b[0m \u001b[0;34m=\u001b[0m \u001b[0mp\u001b[0m\u001b[0;34m.\u001b[0m\u001b[0mplugin_object\u001b[0m\u001b[0;34m.\u001b[0m\u001b[0mscan\u001b[0m\u001b[0;34m(\u001b[0m\u001b[0;34m)\u001b[0m\u001b[0;34m\u001b[0m\u001b[0;34m\u001b[0m\u001b[0m\n\u001b[0m\u001b[1;32m   2178\u001b[0m             \u001b[0;32mexcept\u001b[0m \u001b[0mException\u001b[0m\u001b[0;34m:\u001b[0m\u001b[0;34m\u001b[0m\u001b[0;34m\u001b[0m\u001b[0m\n\u001b[1;32m   2179\u001b[0m                 \u001b[0mutils\u001b[0m\u001b[0;34m.\u001b[0m\u001b[0mLOGGER\u001b[0m\u001b[0;34m.\u001b[0m\u001b[0merror\u001b[0m\u001b[0;34m(\u001b[0m\u001b[0;34m'Error reading timeline'\u001b[0m\u001b[0;34m)\u001b[0m\u001b[0;34m\u001b[0m\u001b[0;34m\u001b[0m\u001b[0m\n",
      "\u001b[0;32m~/miniforge3/lib/python3.9/site-packages/nikola/plugins/misc/scan_posts.py\u001b[0m in \u001b[0;36mscan\u001b[0;34m(self)\u001b[0m\n\u001b[1;32m     88\u001b[0m                         \u001b[0;32mcontinue\u001b[0m\u001b[0;34m\u001b[0m\u001b[0;34m\u001b[0m\u001b[0m\n\u001b[1;32m     89\u001b[0m                     \u001b[0;32mtry\u001b[0m\u001b[0;34m:\u001b[0m\u001b[0;34m\u001b[0m\u001b[0;34m\u001b[0m\u001b[0m\n\u001b[0;32m---> 90\u001b[0;31m                         post = Post(\n\u001b[0m\u001b[1;32m     91\u001b[0m                             \u001b[0mbase_path\u001b[0m\u001b[0;34m,\u001b[0m\u001b[0;34m\u001b[0m\u001b[0;34m\u001b[0m\u001b[0m\n\u001b[1;32m     92\u001b[0m                             \u001b[0mself\u001b[0m\u001b[0;34m.\u001b[0m\u001b[0msite\u001b[0m\u001b[0;34m.\u001b[0m\u001b[0mconfig\u001b[0m\u001b[0;34m,\u001b[0m\u001b[0;34m\u001b[0m\u001b[0;34m\u001b[0m\u001b[0m\n",
      "\u001b[0;32m~/miniforge3/lib/python3.9/site-packages/nikola/post.py\u001b[0m in \u001b[0;36m__init__\u001b[0;34m(self, source_path, config, destination, use_in_feeds, messages, template_name, compiler, destination_base, metadata_extractors_by)\u001b[0m\n\u001b[1;32m    129\u001b[0m \u001b[0;34m\u001b[0m\u001b[0m\n\u001b[1;32m    130\u001b[0m         \u001b[0;31m# Load default metadata\u001b[0m\u001b[0;34m\u001b[0m\u001b[0;34m\u001b[0m\u001b[0;34m\u001b[0m\u001b[0m\n\u001b[0;32m--> 131\u001b[0;31m         \u001b[0mdefault_metadata\u001b[0m\u001b[0;34m,\u001b[0m \u001b[0mdefault_used_extractor\u001b[0m \u001b[0;34m=\u001b[0m \u001b[0mget_meta\u001b[0m\u001b[0;34m(\u001b[0m\u001b[0mself\u001b[0m\u001b[0;34m,\u001b[0m \u001b[0mlang\u001b[0m\u001b[0;34m=\u001b[0m\u001b[0;32mNone\u001b[0m\u001b[0;34m)\u001b[0m\u001b[0;34m\u001b[0m\u001b[0;34m\u001b[0m\u001b[0m\n\u001b[0m\u001b[1;32m    132\u001b[0m         \u001b[0mself\u001b[0m\u001b[0;34m.\u001b[0m\u001b[0mmeta\u001b[0m \u001b[0;34m=\u001b[0m \u001b[0mFunctionary\u001b[0m\u001b[0;34m(\u001b[0m\u001b[0;32mlambda\u001b[0m\u001b[0;34m:\u001b[0m \u001b[0;32mNone\u001b[0m\u001b[0;34m,\u001b[0m \u001b[0mself\u001b[0m\u001b[0;34m.\u001b[0m\u001b[0mdefault_lang\u001b[0m\u001b[0;34m)\u001b[0m\u001b[0;34m\u001b[0m\u001b[0;34m\u001b[0m\u001b[0m\n\u001b[1;32m    133\u001b[0m         \u001b[0mself\u001b[0m\u001b[0;34m.\u001b[0m\u001b[0mused_extractor\u001b[0m \u001b[0;34m=\u001b[0m \u001b[0mFunctionary\u001b[0m\u001b[0;34m(\u001b[0m\u001b[0;32mlambda\u001b[0m\u001b[0;34m:\u001b[0m \u001b[0;32mNone\u001b[0m\u001b[0;34m,\u001b[0m \u001b[0mself\u001b[0m\u001b[0;34m.\u001b[0m\u001b[0mdefault_lang\u001b[0m\u001b[0;34m)\u001b[0m\u001b[0;34m\u001b[0m\u001b[0;34m\u001b[0m\u001b[0m\n",
      "\u001b[0;32m~/miniforge3/lib/python3.9/site-packages/nikola/post.py\u001b[0m in \u001b[0;36mget_meta\u001b[0;34m(post, lang)\u001b[0m\n\u001b[1;32m   1212\u001b[0m     \u001b[0;31m# Meta files and inter-file metadata (priority 3, overrides compiler and filename-based metadata).\u001b[0m\u001b[0;34m\u001b[0m\u001b[0;34m\u001b[0m\u001b[0;34m\u001b[0m\u001b[0m\n\u001b[1;32m   1213\u001b[0m     \u001b[0;32mif\u001b[0m \u001b[0;32mnot\u001b[0m \u001b[0mmetafile_meta\u001b[0m\u001b[0;34m:\u001b[0m\u001b[0;34m\u001b[0m\u001b[0;34m\u001b[0m\u001b[0m\n\u001b[0;32m-> 1214\u001b[0;31m         \u001b[0mnew_meta\u001b[0m\u001b[0;34m,\u001b[0m \u001b[0mused_extractor\u001b[0m \u001b[0;34m=\u001b[0m \u001b[0mget_metadata_from_file\u001b[0m\u001b[0;34m(\u001b[0m\u001b[0mpost\u001b[0m\u001b[0;34m.\u001b[0m\u001b[0msource_path\u001b[0m\u001b[0;34m,\u001b[0m \u001b[0mpost\u001b[0m\u001b[0;34m,\u001b[0m \u001b[0mconfig\u001b[0m\u001b[0;34m,\u001b[0m \u001b[0mlang\u001b[0m\u001b[0;34m,\u001b[0m \u001b[0mmetadata_extractors_by\u001b[0m\u001b[0;34m)\u001b[0m\u001b[0;34m\u001b[0m\u001b[0;34m\u001b[0m\u001b[0m\n\u001b[0m\u001b[1;32m   1215\u001b[0m         \u001b[0mmeta\u001b[0m\u001b[0;34m.\u001b[0m\u001b[0mupdate\u001b[0m\u001b[0;34m(\u001b[0m\u001b[0mnew_meta\u001b[0m\u001b[0;34m)\u001b[0m\u001b[0;34m\u001b[0m\u001b[0;34m\u001b[0m\u001b[0m\n\u001b[1;32m   1216\u001b[0m     \u001b[0;32melse\u001b[0m\u001b[0;34m:\u001b[0m\u001b[0;34m\u001b[0m\u001b[0;34m\u001b[0m\u001b[0m\n",
      "\u001b[0;32m~/miniforge3/lib/python3.9/site-packages/nikola/post.py\u001b[0m in \u001b[0;36mget_metadata_from_file\u001b[0;34m(source_path, post, config, lang, metadata_extractors_by)\u001b[0m\n\u001b[1;32m   1144\u001b[0m                 \u001b[0;32mcontinue\u001b[0m\u001b[0;34m\u001b[0m\u001b[0;34m\u001b[0m\u001b[0m\n\u001b[1;32m   1145\u001b[0m             \u001b[0mextractor\u001b[0m\u001b[0;34m.\u001b[0m\u001b[0mcheck_requirements\u001b[0m\u001b[0;34m(\u001b[0m\u001b[0;34m)\u001b[0m\u001b[0;34m\u001b[0m\u001b[0;34m\u001b[0m\u001b[0m\n\u001b[0;32m-> 1146\u001b[0;31m             \u001b[0mnew_meta\u001b[0m \u001b[0;34m=\u001b[0m \u001b[0mextractor\u001b[0m\u001b[0;34m.\u001b[0m\u001b[0mextract_text\u001b[0m\u001b[0;34m(\u001b[0m\u001b[0msource_text\u001b[0m\u001b[0;34m)\u001b[0m\u001b[0;34m\u001b[0m\u001b[0;34m\u001b[0m\u001b[0m\n\u001b[0m\u001b[1;32m   1147\u001b[0m             \u001b[0;32mif\u001b[0m \u001b[0mnew_meta\u001b[0m\u001b[0;34m:\u001b[0m\u001b[0;34m\u001b[0m\u001b[0;34m\u001b[0m\u001b[0m\n\u001b[1;32m   1148\u001b[0m                 \u001b[0mfound_in_priority\u001b[0m \u001b[0;34m=\u001b[0m \u001b[0;32mTrue\u001b[0m\u001b[0;34m\u001b[0m\u001b[0;34m\u001b[0m\u001b[0m\n",
      "\u001b[0;32m~/miniforge3/lib/python3.9/site-packages/nikola/plugin_categories.py\u001b[0m in \u001b[0;36mextract_text\u001b[0;34m(self, source_text)\u001b[0m\n\u001b[1;32m    438\u001b[0m         \u001b[0;32mif\u001b[0m \u001b[0;32mnot\u001b[0m \u001b[0msplit\u001b[0m\u001b[0;34m:\u001b[0m\u001b[0;34m\u001b[0m\u001b[0;34m\u001b[0m\u001b[0m\n\u001b[1;32m    439\u001b[0m             \u001b[0;32mreturn\u001b[0m \u001b[0;34m{\u001b[0m\u001b[0;34m}\u001b[0m\u001b[0;34m\u001b[0m\u001b[0;34m\u001b[0m\u001b[0m\n\u001b[0;32m--> 440\u001b[0;31m         \u001b[0mmeta\u001b[0m \u001b[0;34m=\u001b[0m \u001b[0mself\u001b[0m\u001b[0;34m.\u001b[0m\u001b[0m_extract_metadata_from_text\u001b[0m\u001b[0;34m(\u001b[0m\u001b[0msplit\u001b[0m\u001b[0;34m[\u001b[0m\u001b[0;36m0\u001b[0m\u001b[0;34m]\u001b[0m\u001b[0;34m)\u001b[0m\u001b[0;34m\u001b[0m\u001b[0;34m\u001b[0m\u001b[0m\n\u001b[0m\u001b[1;32m    441\u001b[0m         \u001b[0;32mreturn\u001b[0m \u001b[0mmeta\u001b[0m\u001b[0;34m\u001b[0m\u001b[0;34m\u001b[0m\u001b[0m\n\u001b[1;32m    442\u001b[0m \u001b[0;34m\u001b[0m\u001b[0m\n",
      "\u001b[0;32m~/miniforge3/lib/python3.9/site-packages/nikola/metadata_extractors.py\u001b[0m in \u001b[0;36m_extract_metadata_from_text\u001b[0;34m(self, source_text)\u001b[0m\n\u001b[1;32m    200\u001b[0m         \u001b[0mmeta\u001b[0m \u001b[0;34m=\u001b[0m \u001b[0myaml\u001b[0m\u001b[0;34m.\u001b[0m\u001b[0mload\u001b[0m\u001b[0;34m(\u001b[0m\u001b[0msource_text\u001b[0m\u001b[0;34m[\u001b[0m\u001b[0;36m4\u001b[0m\u001b[0;34m:\u001b[0m\u001b[0;34m]\u001b[0m\u001b[0;34m)\u001b[0m\u001b[0;34m\u001b[0m\u001b[0;34m\u001b[0m\u001b[0m\n\u001b[1;32m    201\u001b[0m         \u001b[0;31m# We expect empty metadata to be '', not None\u001b[0m\u001b[0;34m\u001b[0m\u001b[0;34m\u001b[0m\u001b[0;34m\u001b[0m\u001b[0m\n\u001b[0;32m--> 202\u001b[0;31m         \u001b[0;32mfor\u001b[0m \u001b[0mk\u001b[0m \u001b[0;32min\u001b[0m \u001b[0mmeta\u001b[0m\u001b[0;34m:\u001b[0m\u001b[0;34m\u001b[0m\u001b[0;34m\u001b[0m\u001b[0m\n\u001b[0m\u001b[1;32m    203\u001b[0m             \u001b[0;32mif\u001b[0m \u001b[0mmeta\u001b[0m\u001b[0;34m[\u001b[0m\u001b[0mk\u001b[0m\u001b[0;34m]\u001b[0m \u001b[0;32mis\u001b[0m \u001b[0;32mNone\u001b[0m\u001b[0;34m:\u001b[0m\u001b[0;34m\u001b[0m\u001b[0;34m\u001b[0m\u001b[0m\n\u001b[1;32m    204\u001b[0m                 \u001b[0mmeta\u001b[0m\u001b[0;34m[\u001b[0m\u001b[0mk\u001b[0m\u001b[0;34m]\u001b[0m \u001b[0;34m=\u001b[0m \u001b[0;34m''\u001b[0m\u001b[0;34m\u001b[0m\u001b[0;34m\u001b[0m\u001b[0m\n",
      "\u001b[0;31mTypeError\u001b[0m: 'NoneType' object is not iterable"
     ]
    }
   ],
   "source": [
    "    nik.scan_posts()"
   ]
  },
  {
   "cell_type": "code",
   "execution_count": 19,
   "id": "a131ecdd-9173-473e-90da-2216baffa5c4",
   "metadata": {},
   "outputs": [
    {
     "name": "stdout",
     "output_type": "stream",
     "text": [
      "\u001b[1;33m[2021-09-01 15:40:07] WARNING: Nikola: Your BASE_URL doesn't end in / -- adding it, but please fix it in your config file!\u001b[0m\n",
      "Scanning posts..\u001b[1;31m[2021-09-01 15:40:07] ERROR: scan_posts: Error reading post docs/mmxxi/september/mermaid_is_cool.md\u001b[0m\n",
      "\u001b[1;31m[2021-09-01 15:40:07] ERROR: Nikola: Error reading timeline\u001b[0m\n",
      "\u001b[1;31m[2021-09-01 15:40:07] ERROR: Nikola: Error loading tasks. An unhandled exception occurred.\u001b[0m\n",
      "Traceback (most recent call last):\n",
      "  File \"/home/tonyfast/miniforge3/lib/python3.9/site-packages/doit/doit_cmd.py\", line 203, in run\n",
      "    return command.parse_execute(args)\n",
      "  File \"/home/tonyfast/miniforge3/lib/python3.9/site-packages/doit/cmd_base.py\", line 150, in parse_execute\n",
      "    return self.execute(params, args)\n",
      "  File \"/home/tonyfast/miniforge3/lib/python3.9/site-packages/doit/cmd_base.py\", line 551, in execute\n",
      "    self.task_list, dodo_config = self.loader.load_tasks(\n",
      "  File \"/home/tonyfast/miniforge3/lib/python3.9/site-packages/nikola/__main__.py\", line 276, in load_tasks\n",
      "    tasks = generate_tasks(\n",
      "  File \"/home/tonyfast/miniforge3/lib/python3.9/site-packages/doit/loader.py\", line 313, in generate_tasks\n",
      "    for task_dict, x_doc in flat_generator(gen_result, gen_doc):\n",
      "  File \"/home/tonyfast/miniforge3/lib/python3.9/site-packages/doit/loader.py\", line 26, in flat_generator\n",
      "    for item in gen:\n",
      "  File \"/home/tonyfast/miniforge3/lib/python3.9/site-packages/nikola/nikola.py\", line 2058, in gen_tasks\n",
      "    for task in flatten(pluginInfo.plugin_object.gen_tasks()):\n",
      "  File \"/home/tonyfast/miniforge3/lib/python3.9/site-packages/nikola/nikola.py\", line 2052, in flatten\n",
      "    for t in task:\n",
      "  File \"/home/tonyfast/miniforge3/lib/python3.9/site-packages/nikola/plugins/task/taxonomies.py\", line 397, in gen_tasks\n",
      "    self.site.scan_posts()\n",
      "  File \"/home/tonyfast/miniforge3/lib/python3.9/site-packages/nikola/nikola.py\", line 2177, in scan_posts\n",
      "    timeline = p.plugin_object.scan()\n",
      "  File \"/home/tonyfast/miniforge3/lib/python3.9/site-packages/nikola/plugins/misc/scan_posts.py\", line 90, in scan\n",
      "    post = Post(\n",
      "  File \"/home/tonyfast/miniforge3/lib/python3.9/site-packages/nikola/post.py\", line 131, in __init__\n",
      "    default_metadata, default_used_extractor = get_meta(self, lang=None)\n",
      "  File \"/home/tonyfast/miniforge3/lib/python3.9/site-packages/nikola/post.py\", line 1214, in get_meta\n",
      "    new_meta, used_extractor = get_metadata_from_file(post.source_path, post, config, lang, metadata_extractors_by)\n",
      "  File \"/home/tonyfast/miniforge3/lib/python3.9/site-packages/nikola/post.py\", line 1146, in get_metadata_from_file\n",
      "    new_meta = extractor.extract_text(source_text)\n",
      "  File \"/home/tonyfast/miniforge3/lib/python3.9/site-packages/nikola/plugin_categories.py\", line 440, in extract_text\n",
      "    meta = self._extract_metadata_from_text(split[0])\n",
      "  File \"/home/tonyfast/miniforge3/lib/python3.9/site-packages/nikola/metadata_extractors.py\", line 202, in _extract_metadata_from_text\n",
      "    for k in meta:\n",
      "TypeError: 'NoneType' object is not iterable\n"
     ]
    }
   ],
   "source": [
    "    !nikola build --continue"
   ]
  },
  {
   "cell_type": "code",
   "execution_count": 12,
   "id": "1fdd52f1-b870-4e77-88d7-ae4da4ff485b",
   "metadata": {},
   "outputs": [
    {
     "data": {
      "text/plain": [
       "[['docs/mmxxi/*.rst', {'en': 'posts'}, 'post.tmpl'],\n",
       " ['docs/mmxxi/*.md', {'en': 'posts'}, 'post.tmpl'],\n",
       " ['docs/mmxxi/*.ipynb', {'en': 'posts'}, 'post.tmpl']]"
      ]
     },
     "execution_count": 12,
     "metadata": {},
     "output_type": "execute_result"
    }
   ],
   "source": [
    "    conf."
   ]
  },
  {
   "cell_type": "code",
   "execution_count": 10,
   "id": "b4949803-eadb-4e6a-9cf5-42f5aa939ba7",
   "metadata": {},
   "outputs": [
    {
     "name": "stdout",
     "output_type": "stream",
     "text": [
      "\u001b[1;33m[2021-09-01 15:35:40] WARNING: Nikola: Your BASE_URL doesn't end in / -- adding it, but please fix it in your config file!\u001b[0m\n",
      "nikola build [TASK/TARGET...]\n",
      "    run tasks\n",
      "\n",
      "Options:\n",
      "    -a, --always-execute\n",
      "        always execute tasks even if up-to-date [default: False]\n",
      "    -c, --continue\n",
      "        continue executing tasks even after a failure [default: False]\n",
      "    --no-continue\n",
      "        opposite of --continue\n",
      "    -v ARG, --verbosity=ARG\n",
      "        0 capture (do not print) stdout/stderr from task.\n",
      "        1 capture stdout only.\n",
      "        2 do not capture anything (print everything immediately).\n",
      "        [default: 1]\n",
      "    -r ARG, --reporter=ARG\n",
      "        Choose output reporter.\n",
      "        [default: console]\n",
      "        choices:\n",
      "        console: console output\n",
      "        executed-only: console, no output for skipped (up-to-date) and\n",
      "        group tasks\n",
      "        json: output in JSON format\n",
      "        zero: report only internal errors from doit\n",
      "    -o ARG, --output-file=ARG\n",
      "        write output into file [default: stdout] [default:\n",
      "        <_io.TextIOWrapper name='<stdout>' mode='w' encoding='utf-8'>]\n",
      "    -n ARG, --process=ARG\n",
      "        number of subprocesses [default: 0]\n",
      "    -P ARG, --parallel-type=ARG\n",
      "        Tasks can be executed in parallel in different ways:\n",
      "        'process': uses python multiprocessing module\n",
      "        'thread': uses threads\n",
      "        [default: process]\n",
      "    --pdb\n",
      "        get into PDB (python debugger) post-mortem in case of\n",
      "        unhandled exception\n",
      "    -s, --single\n",
      "        Execute only specified tasks ignoring their task_dep [default:\n",
      "        False]\n",
      "    --auto-delayed-regex\n",
      "        Uses the default regex \".*\" for every delayed task loader for\n",
      "        which no regex was explicitly defined\n",
      "    --failure-verbosity=ARG\n",
      "        Control re-display stdout/stderr for failed tasks on report\n",
      "        summary.\n",
      "        0 do not show re-display\n",
      "        1 re-display stderr only\n",
      "        2 re-display both stderr/stdout\n",
      "        [default: 0]\n",
      "         [default: 0]\n",
      "    --strict\n",
      "        Fail on things that would normally be warnings.\n",
      "    --invariant\n",
      "        Generate invariant output (for testing only!).\n",
      "    -q, --quiet\n",
      "        Run quietly.\n",
      "\n",
      "  DB backend\n",
      "    --db-file=ARG\n",
      "        file used to save successful runs [default: .doit.db]\n",
      "    --backend=ARG\n",
      "        Select dependency file backend. [default: dbm]\n",
      "        choices: dbm, json, sqlite3\n",
      "\n",
      "  doit core\n",
      "    --check_file_uptodate=ARG\n",
      "        Choose how to check if files have been modified.\n",
      "        Available options [default: md5]:\n",
      "          'md5': use the md5sum\n",
      "          'timestamp': use the timestamp\n"
     ]
    }
   ],
   "source": [
    "    !nikola help build"
   ]
  },
  {
   "cell_type": "code",
   "execution_count": null,
   "id": "75613e6d-ca36-4319-a71e-290f0d5bfe88",
   "metadata": {},
   "outputs": [],
   "source": [
    "# ls"
   ]
  },
  {
   "cell_type": "code",
   "execution_count": 5,
   "id": "efa39aa2-1954-4a52-ba7b-c19d616281e9",
   "metadata": {},
   "outputs": [],
   "source": [
    "    import requests"
   ]
  },
  {
   "cell_type": "code",
   "execution_count": 6,
   "id": "4a1d2332-1568-4628-9fd9-39593a883c56",
   "metadata": {},
   "outputs": [
    {
     "data": {
      "text/plain": [
       "<Response [404]>"
      ]
     },
     "execution_count": 6,
     "metadata": {},
     "output_type": "execute_result"
    }
   ],
   "source": [
    "    requests.get(qshop.models.site.Site(\n",
    "        url = \"Quansight/media\"\n",
    "    ).url)"
   ]
  },
  {
   "cell_type": "code",
   "execution_count": null,
   "id": "5b5e49da-17d6-4d01-b44c-499a4dfdf8af",
   "metadata": {},
   "outputs": [],
   "source": []
  }
 ],
 "metadata": {
  "kernelspec": {
   "display_name": "Python 3 (ipykernel)",
   "language": "python",
   "name": "python3"
  },
  "language_info": {
   "codemirror_mode": {
    "name": "ipython",
    "version": 3
   },
   "file_extension": ".py",
   "mimetype": "text/x-python",
   "name": "python",
   "nbconvert_exporter": "python",
   "pygments_lexer": "ipython3",
   "version": "3.9.5"
  }
 },
 "nbformat": 4,
 "nbformat_minor": 5
}
